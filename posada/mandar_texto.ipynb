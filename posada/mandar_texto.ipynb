{
 "cells": [
  {
   "cell_type": "code",
   "execution_count": null,
   "metadata": {},
   "outputs": [],
   "source": [
    "from py_imessage import imessage\n",
    "import pandas as pd"
   ]
  },
  {
   "cell_type": "code",
   "execution_count": null,
   "metadata": {},
   "outputs": [],
   "source": [
    "mensaje = \"Hola {}! Esperando hayan tenido un buen dia de gracias, somos del grupo de latinos de Menlo. Ojala nos podamos ver el sabado en la posada! Para confirmar aqui https://bit.ly/MSPosada y para apuntarse para ayudar: https://bit.ly/ayuda_posada Saludos!\""
   ]
  },
  {
   "cell_type": "code",
   "execution_count": null,
   "metadata": {},
   "outputs": [],
   "source": [
    "mensaje_ingles = \"Dear {}, hope you had a great Thanksgiving! La Posada, the holiday celebration from Menlo LatinX affinity group is this Saturday, hope to see you there! RSVP: https://bit.ly/MSPosada to volunteer: https://bit.ly/ayuda_posada\""
   ]
  },
  {
   "cell_type": "code",
   "execution_count": null,
   "metadata": {},
   "outputs": [],
   "source": [
    "# Esta forma no funciono \n",
    "# (1) hay que inicializar el numero, que se puede hacer con imessage.check_compatibility(\"16509991243\")\n",
    "# (2) es muy lento porque lo hace como mensaje de voz y luego lo pone\n",
    "'''\n",
    "import os\n",
    "\n",
    "def send_message(phone_number, message):\n",
    "    os.system('osascript ../send.scpt {} \"{}\"'.format(phone_number, message))\n",
    "'''"
   ]
  },
  {
   "cell_type": "code",
   "execution_count": null,
   "metadata": {},
   "outputs": [],
   "source": [
    "mensaje.format(\"Peluche\")"
   ]
  },
  {
   "cell_type": "code",
   "execution_count": null,
   "metadata": {},
   "outputs": [],
   "source": [
    "mensaje_ingles.format(\"Bombona\")"
   ]
  },
  {
   "cell_type": "code",
   "execution_count": null,
   "metadata": {},
   "outputs": [],
   "source": [
    "df = pd.read_csv(\"nombres.csv\")\n",
    "df['numero']=[x.replace('-','') for x in df.telefono]\n",
    "del df['telefono']"
   ]
  },
  {
   "cell_type": "code",
   "execution_count": null,
   "metadata": {},
   "outputs": [],
   "source": [
    "# no es necesario para mandar los mensajes, este loop es lento\n",
    "# nos lo podemos saltar y mandar los mensajes, aunque no todos se manden\n",
    "iphone_lst = []\n",
    "for i,row in df.iterrows():\n",
    "    is_iphone = imessage.check_compatibility(row.numero)\n",
    "    iphone_lst.append(is_iphone)\n",
    "    print(i,row.Saludo)"
   ]
  },
  {
   "cell_type": "code",
   "execution_count": null,
   "metadata": {},
   "outputs": [],
   "source": [
    "df['iphone']=iphone_lst"
   ]
  },
  {
   "cell_type": "code",
   "execution_count": null,
   "metadata": {},
   "outputs": [],
   "source": [
    "df.to_csv(\"nombre_iphone.csv\",index=False)"
   ]
  },
  {
   "cell_type": "code",
   "execution_count": null,
   "metadata": {},
   "outputs": [],
   "source": [
    "# Mandar textos\n",
    "# crsutils disable\n",
    "# https://www.evernote.com/shard/s355/nl/56953991/d9fef80d-acde-2041-1761-ca1f939995b0?title=Send%20text%20messages%20from%20mac\n",
    "\n",
    "'''\n",
    "for i,row in df.iterrows():\n",
    "    if row.mandado==0 and row.iphone:\n",
    "        imessage.send(row.numero, mensaje.format(row.Saludo))\n",
    "        imessage.send(row.numero, mensaje_ingles.format(row.Saludo))\n",
    "        print(row.numero,row.Saludo)\n",
    "'''        "
   ]
  },
  {
   "cell_type": "code",
   "execution_count": null,
   "metadata": {},
   "outputs": [],
   "source": [
    "print(\"Personas no contactadas por texto\\n\")\n",
    "for i,row in df.iterrows():\n",
    "    if not row.iphone:\n",
    "        print(row.Saludo,row.numero)"
   ]
  }
 ],
 "metadata": {
  "kernelspec": {
   "display_name": "Python 3",
   "language": "python",
   "name": "python3"
  },
  "language_info": {
   "codemirror_mode": {
    "name": "ipython",
    "version": 3
   },
   "file_extension": ".py",
   "mimetype": "text/x-python",
   "name": "python",
   "nbconvert_exporter": "python",
   "pygments_lexer": "ipython3",
   "version": "3.8.3"
  }
 },
 "nbformat": 4,
 "nbformat_minor": 4
}
